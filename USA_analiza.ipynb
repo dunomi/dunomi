{
  "nbformat": 4,
  "nbformat_minor": 0,
  "metadata": {
    "colab": {
      "name": "projektNAstate.ipynb",
      "provenance": [],
      "collapsed_sections": [],
      "include_colab_link": true
    },
    "kernelspec": {
      "name": "python3",
      "display_name": "Python 3"
    }
  },
  "cells": [
    {
      "cell_type": "markdown",
      "metadata": {
        "id": "view-in-github",
        "colab_type": "text"
      },
      "source": [
        "<a href=\"https://colab.research.google.com/github/dunomi/dunomi/blob/master/USA_analiza.ipynb\" target=\"_parent\"><img src=\"https://colab.research.google.com/assets/colab-badge.svg\" alt=\"Open In Colab\"/></a>"
      ]
    },
    {
      "cell_type": "code",
      "metadata": {
        "id": "ucKi-mqDBJSD",
        "colab_type": "code",
        "colab": {}
      },
      "source": [
        "import numpy as np\n",
        "import pandas as pd\n",
        "import matplotlib.pyplot as plt\n",
        "import math\n",
        "\n",
        "import plotly.express as px\n",
        "import plotly.graph_objects as go\n",
        "from plotly.subplots import make_subplots\n",
        "\n",
        "ConfirmedCases_raw=pd.read_csv('https://raw.githubusercontent.com/dunomi/dunomi/master/virus_cases.csv')\n",
        "USA_state_names= pd.read_csv('https://raw.githubusercontent.com/dunomi/dunomi/master/states.csv')\n",
        "USA_humidity_row=pd.read_csv('https://raw.githubusercontent.com/dunomi/dunomi/master/USA_humidity.csv?token=AO3BJXHYBDBENHN2JIXXFGC6POTP2')\n",
        "USA_temperature_row=pd.read_csv('https://raw.githubusercontent.com/dunomi/dunomi/master/USA_temperature.csv?token=AO3BJXFW6K5G6GYWHX5I2GC6POTVA')"
      ],
      "execution_count": 0,
      "outputs": []
    },
    {
      "cell_type": "code",
      "metadata": {
        "id": "UjHGEOq_J6i4",
        "colab_type": "code",
        "colab": {}
      },
      "source": [
        "USA=ConfirmedCases_raw[ConfirmedCases_raw['Country/Region']=='US'].reset_index().drop(['index','Country/Region','Lat','Long'],axis=1)\n",
        "#USA.sum(axis = 0, skipna = True)[1:]>10\n",
        "USA=USA.head(52)\n",
        "USA=USA[~USA['Province/State'].isin(['Diamond Princess','Grand Princess'])].reset_index().drop('index',axis=1)\n"
      ],
      "execution_count": 0,
      "outputs": []
    },
    {
      "cell_type": "markdown",
      "metadata": {
        "id": "tcrXdf6dz1lx",
        "colab_type": "text"
      },
      "source": [
        "Przygotowanie tabeli z przypadkami Corona virus"
      ]
    },
    {
      "cell_type": "code",
      "metadata": {
        "id": "TKQmK3-SNMwl",
        "colab_type": "code",
        "colab": {}
      },
      "source": [
        "USAcases=pd.DataFrame(columns=['Stan','Przyrosty','Data'])\n",
        "\n",
        "for i in range(len(USA)):\n",
        "  Date=USA.loc[i][USA.loc[i][0:]!=0].index[1]\n",
        "  stateName=USA.loc[i][0]\n",
        "  stateValue=USA.loc[i][1:].tolist()\n",
        "  stateSum=[i for i in stateValue if i>0]\n",
        "  stateSumArray=np.array(stateSum[1:7])/np.array(stateSum[0:6])\n",
        "  stateSumArray=np.array([round(i,2) for i in stateSumArray])\n",
        "  USAcases=USAcases.append(pd.DataFrame([[stateName,stateSumArray,Date]],columns=['Stan','Przyrosty','Data']))\n",
        "\n",
        "USAcases=USAcases.reset_index().drop('index',axis=1)[['Stan','Data','Przyrosty']]\n"
      ],
      "execution_count": 0,
      "outputs": []
    },
    {
      "cell_type": "markdown",
      "metadata": {
        "id": "_xuIqxVPz8rD",
        "colab_type": "text"
      },
      "source": [
        "Przygotowanie tabeli z temperaturą i wilgotnością.\n",
        "\n",
        "USAdata - tabela z przyrostem przypadków zachorowań, stopniami temperatury oraz procentową wilgotnością.\n",
        "\n",
        "USAdata2 - tabela z przyrostem przypadków zachorowań, przyrostem temperatury oraz przyrostem wilgotności."
      ]
    },
    {
      "cell_type": "code",
      "metadata": {
        "id": "1DMVfJnAdCIT",
        "colab_type": "code",
        "colab": {}
      },
      "source": [
        "USAweather=pd.DataFrame(columns=['Stan','Temperatura','Wilgotnosc'])\n",
        "\n",
        "for i in range(len(USA_temperature_row)):\n",
        "  stateName=USA_temperature_row.loc[i][0]\n",
        "  temp=np.array(USA_temperature_row.loc[i][3:])\n",
        "  wilg=np.array(USA_humidity_row.loc[i][3:])/100\n",
        "\n",
        "  USAweather=USAweather.append(pd.DataFrame([[stateName,temp,wilg]],columns=['Stan','Temperatura','Wilgotnosc']))\n",
        "  \n",
        "USAdata=pd.merge(USAcases,USAweather)"
      ],
      "execution_count": 0,
      "outputs": []
    },
    {
      "cell_type": "code",
      "metadata": {
        "id": "ShWAJDT9xNvY",
        "colab_type": "code",
        "colab": {}
      },
      "source": [
        "USAweather2=pd.DataFrame(columns=['Stan','Temperatura','Wilgotnosc'])\n",
        "\n",
        "for i in range(len(USA_temperature_row)):\n",
        "  stateName=USA_temperature_row.loc[i][0]\n",
        "  temp=np.array(USA_temperature_row.loc[i][4:])/np.array(USA_temperature_row.loc[i][3:-1])\n",
        "  wilg=np.array(USA_humidity_row.loc[i][4:])/np.array(USA_humidity_row.loc[i][3:-1])\n",
        "\n",
        "  USAweather2=USAweather2.append(pd.DataFrame([[stateName,temp,wilg]],columns=['Stan','Temperatura','Wilgotnosc']))\n",
        "\n",
        "USAdata2=pd.merge(USAcases,USAweather2)"
      ],
      "execution_count": 0,
      "outputs": []
    },
    {
      "cell_type": "markdown",
      "metadata": {
        "id": "YWu6K0330d6Y",
        "colab_type": "text"
      },
      "source": [
        "USAcumdata - tabela z danymi przygoptowanymi do wykresu dla USAdata\n",
        "\n",
        "USAcumdata2 - tabela z danymi przygoptowanymi do wykresu dla USAdata2"
      ]
    },
    {
      "cell_type": "code",
      "metadata": {
        "id": "gIG6zameEO6C",
        "colab_type": "code",
        "colab": {}
      },
      "source": [
        "USAcumdata=pd.DataFrame(columns=['Stan','Przyrosty','Temperatura','Wilgotnosc'])\n",
        "for i in range(0,len(USAdata)):\n",
        "  stateName=USAdata.loc[i][0]\n",
        "  przy=np.cumprod(USAdata['Przyrosty'][i])[5]\n",
        "  temp=USAdata.Temperatura[i].mean()\n",
        "  wilg=USAdata.Wilgotnosc[i].mean()\n",
        "  USAcumdata=USAcumdata.append(pd.DataFrame([[stateName,przy,temp,wilg]],columns=['Stan','Przyrosty','Temperatura','Wilgotnosc']))\n",
        "\n",
        "#USAcumdata.loc[USAcumdata.Przyrosty > 50, 'Przyrosty'] = max(USAcumdata.loc[USAcumdata.Przyrosty < 50].Przyrosty)"
      ],
      "execution_count": 0,
      "outputs": []
    },
    {
      "cell_type": "code",
      "metadata": {
        "id": "sZAfziAaQk2m",
        "colab_type": "code",
        "colab": {}
      },
      "source": [
        "USAcumdata2=pd.DataFrame(columns=['Stan','Przyrosty','Temperatura','Wilgotnosc'])\n",
        "for i in range(0,len(USAdata2)):\n",
        "  stateName=USAdata2.loc[i][0]\n",
        "  przy=np.cumprod(USAdata2['Przyrosty'][i])[5]\n",
        "  temp=USAdata2.Temperatura[i].mean()\n",
        "  wilg=USAdata2.Wilgotnosc[i].mean()\n",
        "  USAcumdata2=USAcumdata2.append(pd.DataFrame([[stateName,przy,temp,wilg]],columns=['Stan','Przyrosty','Temperatura','Wilgotnosc']))\n",
        "\n",
        "USA2cumdataLess50=USAcumdata2[USAcumdata2.Przyrosty<50]\n",
        "#USAcumdataMore50=USAcumdata[USAcumdata.Przyrosty>=50]"
      ],
      "execution_count": 0,
      "outputs": []
    },
    {
      "cell_type": "code",
      "metadata": {
        "id": "bmEEyuUR-ICP",
        "colab_type": "code",
        "colab": {}
      },
      "source": [
        "def plot_maker(Data,Temperatura_lub_Wilgotnosc):\n",
        "\n",
        "  fig = make_subplots(rows=11, cols=5, shared_xaxes=False)\n",
        "  for i in range(0,len(Data)):\n",
        "    x=Data.loc[i]\n",
        "    figX = px.scatter(x=x[Temperatura_lub_Wilgotnosc].tolist()[0:6],\n",
        "                      y=x['Przyrosty'].tolist(),\n",
        "                      trendline=\"ols\")\n",
        "    \n",
        "    tracePoints = figX['data'][0]\n",
        "    traceTradeline = figX['data'][1]\n",
        "\n",
        "    fig.add_trace(tracePoints, row=math.floor(i/5)+1, col=i%5+1)\n",
        "    fig.add_trace(traceTradeline, row=math.floor(i/5)+1, col=i%5+1)\n",
        "  fig['layout'].update(height=1500, width=1000, showlegend=False, title=Temperatura_lub_Wilgotnosc)\n",
        "  return fig.show()\n",
        "\n",
        "plot_maker(USAdata,'Temperatura')\n",
        "plot_maker(USAdata,'Wilgotnosc')"
      ],
      "execution_count": 0,
      "outputs": []
    },
    {
      "cell_type": "markdown",
      "metadata": {
        "id": "9l2D7JKM1GSI",
        "colab_type": "text"
      },
      "source": [
        "Wykresy"
      ]
    },
    {
      "cell_type": "code",
      "metadata": {
        "id": "QblPXQH54QwE",
        "colab_type": "code",
        "outputId": "0f54e7ff-abcf-43ab-9b78-0fc9d026d544",
        "colab": {
          "base_uri": "https://localhost:8080/",
          "height": 560
        }
      },
      "source": [
        "fig = px.scatter(x=USAcumdata['Temperatura'].tolist(), \n",
        "                 y=USAcumdata['Wilgotnosc'].tolist(),\n",
        "                 size=USAcumdata['Przyrosty'].tolist(),\n",
        "                 labels={'x':'Temperatura', 'y':'Wilgotnosc','size':'Przyrosty'})\n",
        "fig.update_yaxes(range=[0,1])\n",
        "fig.show()\n",
        "\n",
        "'''\n",
        "fig = px.scatter(x=USAcumdataMore50['Temperatura'].tolist(), \n",
        "                 y=USAcumdataMore50['Wilgotnosc'].tolist(),\n",
        "                 size=USAcumdataMore50['Przyrosty'].tolist(),\n",
        "                 labels={'x':'Temperatura', 'y':'Wilgotnosc','size':'Przyrosty'})\n",
        "fig.show()\n",
        "'''"
      ],
      "execution_count": 69,
      "outputs": [
        {
          "output_type": "display_data",
          "data": {
            "text/html": [
              "<html>\n",
              "<head><meta charset=\"utf-8\" /></head>\n",
              "<body>\n",
              "    <div>\n",
              "            <script src=\"https://cdnjs.cloudflare.com/ajax/libs/mathjax/2.7.5/MathJax.js?config=TeX-AMS-MML_SVG\"></script><script type=\"text/javascript\">if (window.MathJax) {MathJax.Hub.Config({SVG: {font: \"STIX-Web\"}});}</script>\n",
              "                <script type=\"text/javascript\">window.PlotlyConfig = {MathJaxConfig: 'local'};</script>\n",
              "        <script src=\"https://cdn.plot.ly/plotly-latest.min.js\"></script>    \n",
              "            <div id=\"5d9527c9-cf4e-410d-bb57-989b20dcf92e\" class=\"plotly-graph-div\" style=\"height:525px; width:100%;\"></div>\n",
              "            <script type=\"text/javascript\">\n",
              "                \n",
              "                    window.PLOTLYENV=window.PLOTLYENV || {};\n",
              "                    \n",
              "                if (document.getElementById(\"5d9527c9-cf4e-410d-bb57-989b20dcf92e\")) {\n",
              "                    Plotly.newPlot(\n",
              "                        '5d9527c9-cf4e-410d-bb57-989b20dcf92e',\n",
              "                        [{\"hoverlabel\": {\"namelength\": 0}, \"hovertemplate\": \"Temperatura=%{x}<br>Wilgotnosc=%{y}<br>Przyrosty=%{marker.size}\", \"legendgroup\": \"\", \"marker\": {\"color\": \"#636efa\", \"size\": [3.410783527536001, 5.555187264, 3.8993460000000004, 2.14088410368, 7.068903412500002, 10.670792864160001, 10.357190415000002, 11.8576510416, 2.5888675680000013, 6.570615329208001, 8.73166454784, 6.4306579428, 2.8657732608000006, 5.065688678400001, 5.411133593999999, 4.69346125248, 7.414788729599999, 7.0486173172800015, 2.973348, 4.150096874999999, 3.49474125, 4.4159999999999995, 11.254800479999997, 4.276233, 18.090144071999998, 6.014573135999999, 16.572465000000005, 7.021013999999999, 15.017475000000003, 3.51, 5.005, 19.47942108, 11.04, 34.1854344, 6.0, 12.0, 9.0, 22.0248, 16.005599999999998, 10.9312, 34.1854344, 32.622670080000006, 34.1854344, 9.030000000000001, 7.678827, 6.0, 1.3675200000000005, 11.969999999999999, 14.973600000000001], \"sizemode\": \"area\", \"sizeref\": 0.085463586, \"symbol\": \"circle\"}, \"mode\": \"markers\", \"name\": \"\", \"showlegend\": false, \"type\": \"scatter\", \"x\": [9, 10, 17, 10, 21, 12, 27, 13, 11, 26, 7, 15, 9, 14, 19, 22, 14, 18, 22, 7, 11, 16, 13, 8, 4, 7, 10, 12, 12, 26, 15, 14, 9, 26, 9, 4, 5, 14, 13, 12, 5, 6, 26, -1, 14, 0, 5, 14, 5], \"xaxis\": \"x\", \"y\": [0.5042857142857143, 0.41000000000000003, 0.5671428571428571, 0.5628571428571428, 0.702857142857143, 0.4371428571428572, 0.5071428571428572, 0.48571428571428577, 0.5928571428571429, 0.62, 0.7385714285714285, 0.4, 0.5871428571428571, 0.53, 0.5371428571428571, 0.5385714285714286, 0.6657142857142856, 0.5014285714285714, 0.5371428571428571, 0.7314285714285713, 0.6571428571428571, 0.4771428571428572, 0.35999999999999993, 0.41285714285714287, 0.5885714285714286, 0.6742857142857143, 0.6657142857142857, 0.4885714285714286, 0.44, 0.67, 0.7042857142857143, 0.34714285714285725, 0.6571428571428573, 0.57, 0.692857142857143, 0.51, 0.5657142857142857, 0.7057142857142857, 0.5657142857142856, 0.49714285714285705, 0.5928571428571429, 0.55, 0.5657142857142857, 0.5442857142857143, 0.42714285714285716, 0.6614285714285714, 0.5914285714285714, 0.6899999999999998, 0.7042857142857143], \"yaxis\": \"y\"}],\n",
              "                        {\"legend\": {\"itemsizing\": \"constant\", \"tracegroupgap\": 0}, \"margin\": {\"t\": 60}, \"template\": {\"data\": {\"bar\": [{\"error_x\": {\"color\": \"#2a3f5f\"}, \"error_y\": {\"color\": \"#2a3f5f\"}, \"marker\": {\"line\": {\"color\": \"#E5ECF6\", \"width\": 0.5}}, \"type\": \"bar\"}], \"barpolar\": [{\"marker\": {\"line\": {\"color\": \"#E5ECF6\", \"width\": 0.5}}, \"type\": \"barpolar\"}], \"carpet\": [{\"aaxis\": {\"endlinecolor\": \"#2a3f5f\", \"gridcolor\": \"white\", \"linecolor\": \"white\", \"minorgridcolor\": \"white\", \"startlinecolor\": \"#2a3f5f\"}, \"baxis\": {\"endlinecolor\": \"#2a3f5f\", \"gridcolor\": \"white\", \"linecolor\": \"white\", \"minorgridcolor\": \"white\", \"startlinecolor\": \"#2a3f5f\"}, \"type\": \"carpet\"}], \"choropleth\": [{\"colorbar\": {\"outlinewidth\": 0, \"ticks\": \"\"}, \"type\": \"choropleth\"}], \"contour\": [{\"colorbar\": {\"outlinewidth\": 0, \"ticks\": \"\"}, \"colorscale\": [[0.0, \"#0d0887\"], [0.1111111111111111, \"#46039f\"], [0.2222222222222222, \"#7201a8\"], [0.3333333333333333, \"#9c179e\"], [0.4444444444444444, \"#bd3786\"], [0.5555555555555556, \"#d8576b\"], [0.6666666666666666, \"#ed7953\"], [0.7777777777777778, \"#fb9f3a\"], [0.8888888888888888, \"#fdca26\"], [1.0, \"#f0f921\"]], \"type\": \"contour\"}], \"contourcarpet\": [{\"colorbar\": {\"outlinewidth\": 0, \"ticks\": \"\"}, \"type\": \"contourcarpet\"}], \"heatmap\": [{\"colorbar\": {\"outlinewidth\": 0, \"ticks\": \"\"}, \"colorscale\": [[0.0, \"#0d0887\"], [0.1111111111111111, \"#46039f\"], [0.2222222222222222, \"#7201a8\"], [0.3333333333333333, \"#9c179e\"], [0.4444444444444444, \"#bd3786\"], [0.5555555555555556, \"#d8576b\"], [0.6666666666666666, \"#ed7953\"], [0.7777777777777778, \"#fb9f3a\"], [0.8888888888888888, \"#fdca26\"], [1.0, \"#f0f921\"]], \"type\": \"heatmap\"}], \"heatmapgl\": [{\"colorbar\": {\"outlinewidth\": 0, \"ticks\": \"\"}, \"colorscale\": [[0.0, \"#0d0887\"], [0.1111111111111111, \"#46039f\"], [0.2222222222222222, \"#7201a8\"], [0.3333333333333333, \"#9c179e\"], [0.4444444444444444, \"#bd3786\"], [0.5555555555555556, \"#d8576b\"], [0.6666666666666666, \"#ed7953\"], [0.7777777777777778, \"#fb9f3a\"], [0.8888888888888888, \"#fdca26\"], [1.0, \"#f0f921\"]], \"type\": \"heatmapgl\"}], \"histogram\": [{\"marker\": {\"colorbar\": {\"outlinewidth\": 0, \"ticks\": \"\"}}, \"type\": \"histogram\"}], \"histogram2d\": [{\"colorbar\": {\"outlinewidth\": 0, \"ticks\": \"\"}, \"colorscale\": [[0.0, \"#0d0887\"], [0.1111111111111111, \"#46039f\"], [0.2222222222222222, \"#7201a8\"], [0.3333333333333333, \"#9c179e\"], [0.4444444444444444, \"#bd3786\"], [0.5555555555555556, \"#d8576b\"], [0.6666666666666666, \"#ed7953\"], [0.7777777777777778, \"#fb9f3a\"], [0.8888888888888888, \"#fdca26\"], [1.0, \"#f0f921\"]], \"type\": \"histogram2d\"}], \"histogram2dcontour\": [{\"colorbar\": {\"outlinewidth\": 0, \"ticks\": \"\"}, \"colorscale\": [[0.0, \"#0d0887\"], [0.1111111111111111, \"#46039f\"], [0.2222222222222222, \"#7201a8\"], [0.3333333333333333, \"#9c179e\"], [0.4444444444444444, \"#bd3786\"], [0.5555555555555556, \"#d8576b\"], [0.6666666666666666, \"#ed7953\"], [0.7777777777777778, \"#fb9f3a\"], [0.8888888888888888, \"#fdca26\"], [1.0, \"#f0f921\"]], \"type\": \"histogram2dcontour\"}], \"mesh3d\": [{\"colorbar\": {\"outlinewidth\": 0, \"ticks\": \"\"}, \"type\": \"mesh3d\"}], \"parcoords\": [{\"line\": {\"colorbar\": {\"outlinewidth\": 0, \"ticks\": \"\"}}, \"type\": \"parcoords\"}], \"pie\": [{\"automargin\": true, \"type\": \"pie\"}], \"scatter\": [{\"marker\": {\"colorbar\": {\"outlinewidth\": 0, \"ticks\": \"\"}}, \"type\": \"scatter\"}], \"scatter3d\": [{\"line\": {\"colorbar\": {\"outlinewidth\": 0, \"ticks\": \"\"}}, \"marker\": {\"colorbar\": {\"outlinewidth\": 0, \"ticks\": \"\"}}, \"type\": \"scatter3d\"}], \"scattercarpet\": [{\"marker\": {\"colorbar\": {\"outlinewidth\": 0, \"ticks\": \"\"}}, \"type\": \"scattercarpet\"}], \"scattergeo\": [{\"marker\": {\"colorbar\": {\"outlinewidth\": 0, \"ticks\": \"\"}}, \"type\": \"scattergeo\"}], \"scattergl\": [{\"marker\": {\"colorbar\": {\"outlinewidth\": 0, \"ticks\": \"\"}}, \"type\": \"scattergl\"}], \"scattermapbox\": [{\"marker\": {\"colorbar\": {\"outlinewidth\": 0, \"ticks\": \"\"}}, \"type\": \"scattermapbox\"}], \"scatterpolar\": [{\"marker\": {\"colorbar\": {\"outlinewidth\": 0, \"ticks\": \"\"}}, \"type\": \"scatterpolar\"}], \"scatterpolargl\": [{\"marker\": {\"colorbar\": {\"outlinewidth\": 0, \"ticks\": \"\"}}, \"type\": \"scatterpolargl\"}], \"scatterternary\": [{\"marker\": {\"colorbar\": {\"outlinewidth\": 0, \"ticks\": \"\"}}, \"type\": \"scatterternary\"}], \"surface\": [{\"colorbar\": {\"outlinewidth\": 0, \"ticks\": \"\"}, \"colorscale\": [[0.0, \"#0d0887\"], [0.1111111111111111, \"#46039f\"], [0.2222222222222222, \"#7201a8\"], [0.3333333333333333, \"#9c179e\"], [0.4444444444444444, \"#bd3786\"], [0.5555555555555556, \"#d8576b\"], [0.6666666666666666, \"#ed7953\"], [0.7777777777777778, \"#fb9f3a\"], [0.8888888888888888, \"#fdca26\"], [1.0, \"#f0f921\"]], \"type\": \"surface\"}], \"table\": [{\"cells\": {\"fill\": {\"color\": \"#EBF0F8\"}, \"line\": {\"color\": \"white\"}}, \"header\": {\"fill\": {\"color\": \"#C8D4E3\"}, \"line\": {\"color\": \"white\"}}, \"type\": \"table\"}]}, \"layout\": {\"annotationdefaults\": {\"arrowcolor\": \"#2a3f5f\", \"arrowhead\": 0, \"arrowwidth\": 1}, \"coloraxis\": {\"colorbar\": {\"outlinewidth\": 0, \"ticks\": \"\"}}, \"colorscale\": {\"diverging\": [[0, \"#8e0152\"], [0.1, \"#c51b7d\"], [0.2, \"#de77ae\"], [0.3, \"#f1b6da\"], [0.4, \"#fde0ef\"], [0.5, \"#f7f7f7\"], [0.6, \"#e6f5d0\"], [0.7, \"#b8e186\"], [0.8, \"#7fbc41\"], [0.9, \"#4d9221\"], [1, \"#276419\"]], \"sequential\": [[0.0, \"#0d0887\"], [0.1111111111111111, \"#46039f\"], [0.2222222222222222, \"#7201a8\"], [0.3333333333333333, \"#9c179e\"], [0.4444444444444444, \"#bd3786\"], [0.5555555555555556, \"#d8576b\"], [0.6666666666666666, \"#ed7953\"], [0.7777777777777778, \"#fb9f3a\"], [0.8888888888888888, \"#fdca26\"], [1.0, \"#f0f921\"]], \"sequentialminus\": [[0.0, \"#0d0887\"], [0.1111111111111111, \"#46039f\"], [0.2222222222222222, \"#7201a8\"], [0.3333333333333333, \"#9c179e\"], [0.4444444444444444, \"#bd3786\"], [0.5555555555555556, \"#d8576b\"], [0.6666666666666666, \"#ed7953\"], [0.7777777777777778, \"#fb9f3a\"], [0.8888888888888888, \"#fdca26\"], [1.0, \"#f0f921\"]]}, \"colorway\": [\"#636efa\", \"#EF553B\", \"#00cc96\", \"#ab63fa\", \"#FFA15A\", \"#19d3f3\", \"#FF6692\", \"#B6E880\", \"#FF97FF\", \"#FECB52\"], \"font\": {\"color\": \"#2a3f5f\"}, \"geo\": {\"bgcolor\": \"white\", \"lakecolor\": \"white\", \"landcolor\": \"#E5ECF6\", \"showlakes\": true, \"showland\": true, \"subunitcolor\": \"white\"}, \"hoverlabel\": {\"align\": \"left\"}, \"hovermode\": \"closest\", \"mapbox\": {\"style\": \"light\"}, \"paper_bgcolor\": \"white\", \"plot_bgcolor\": \"#E5ECF6\", \"polar\": {\"angularaxis\": {\"gridcolor\": \"white\", \"linecolor\": \"white\", \"ticks\": \"\"}, \"bgcolor\": \"#E5ECF6\", \"radialaxis\": {\"gridcolor\": \"white\", \"linecolor\": \"white\", \"ticks\": \"\"}}, \"scene\": {\"xaxis\": {\"backgroundcolor\": \"#E5ECF6\", \"gridcolor\": \"white\", \"gridwidth\": 2, \"linecolor\": \"white\", \"showbackground\": true, \"ticks\": \"\", \"zerolinecolor\": \"white\"}, \"yaxis\": {\"backgroundcolor\": \"#E5ECF6\", \"gridcolor\": \"white\", \"gridwidth\": 2, \"linecolor\": \"white\", \"showbackground\": true, \"ticks\": \"\", \"zerolinecolor\": \"white\"}, \"zaxis\": {\"backgroundcolor\": \"#E5ECF6\", \"gridcolor\": \"white\", \"gridwidth\": 2, \"linecolor\": \"white\", \"showbackground\": true, \"ticks\": \"\", \"zerolinecolor\": \"white\"}}, \"shapedefaults\": {\"line\": {\"color\": \"#2a3f5f\"}}, \"ternary\": {\"aaxis\": {\"gridcolor\": \"white\", \"linecolor\": \"white\", \"ticks\": \"\"}, \"baxis\": {\"gridcolor\": \"white\", \"linecolor\": \"white\", \"ticks\": \"\"}, \"bgcolor\": \"#E5ECF6\", \"caxis\": {\"gridcolor\": \"white\", \"linecolor\": \"white\", \"ticks\": \"\"}}, \"title\": {\"x\": 0.05}, \"xaxis\": {\"automargin\": true, \"gridcolor\": \"white\", \"linecolor\": \"white\", \"ticks\": \"\", \"title\": {\"standoff\": 15}, \"zerolinecolor\": \"white\", \"zerolinewidth\": 2}, \"yaxis\": {\"automargin\": true, \"gridcolor\": \"white\", \"linecolor\": \"white\", \"ticks\": \"\", \"title\": {\"standoff\": 15}, \"zerolinecolor\": \"white\", \"zerolinewidth\": 2}}}, \"xaxis\": {\"anchor\": \"y\", \"domain\": [0.0, 1.0], \"title\": {\"text\": \"Temperatura\"}}, \"yaxis\": {\"anchor\": \"x\", \"domain\": [0.0, 1.0], \"range\": [0, 1], \"title\": {\"text\": \"Wilgotnosc\"}}},\n",
              "                        {\"responsive\": true}\n",
              "                    ).then(function(){\n",
              "                            \n",
              "var gd = document.getElementById('5d9527c9-cf4e-410d-bb57-989b20dcf92e');\n",
              "var x = new MutationObserver(function (mutations, observer) {{\n",
              "        var display = window.getComputedStyle(gd).display;\n",
              "        if (!display || display === 'none') {{\n",
              "            console.log([gd, 'removed!']);\n",
              "            Plotly.purge(gd);\n",
              "            observer.disconnect();\n",
              "        }}\n",
              "}});\n",
              "\n",
              "// Listen for the removal of the full notebook cells\n",
              "var notebookContainer = gd.closest('#notebook-container');\n",
              "if (notebookContainer) {{\n",
              "    x.observe(notebookContainer, {childList: true});\n",
              "}}\n",
              "\n",
              "// Listen for the clearing of the current output cell\n",
              "var outputEl = gd.closest('.output');\n",
              "if (outputEl) {{\n",
              "    x.observe(outputEl, {childList: true});\n",
              "}}\n",
              "\n",
              "                        })\n",
              "                };\n",
              "                \n",
              "            </script>\n",
              "        </div>\n",
              "</body>\n",
              "</html>"
            ]
          },
          "metadata": {
            "tags": []
          }
        },
        {
          "output_type": "execute_result",
          "data": {
            "text/plain": [
              "\"\\nfig = px.scatter(x=USAcumdataMore50['Temperatura'].tolist(), \\n                 y=USAcumdataMore50['Wilgotnosc'].tolist(),\\n                 size=USAcumdataMore50['Przyrosty'].tolist(),\\n                 labels={'x':'Temperatura', 'y':'Wilgotnosc','size':'Przyrosty'})\\nfig.show()\\n\""
            ]
          },
          "metadata": {
            "tags": []
          },
          "execution_count": 69
        }
      ]
    },
    {
      "cell_type": "code",
      "metadata": {
        "id": "rsIOEHcHIEsf",
        "colab_type": "code",
        "colab": {}
      },
      "source": [
        "USAcumdata_map=USAcumdata.reset_index()[['Stan','Przyrosty','Temperatura','Wilgotnosc']]\n",
        "\n",
        "new_column = pd.Series([30,30,30,30], name='Przyrosty', index=USAcumdata_map[USAcumdata_map['Przyrosty']>30].index)\n",
        "USAcumdata_map.update(new_column)"
      ],
      "execution_count": 0,
      "outputs": []
    },
    {
      "cell_type": "code",
      "metadata": {
        "id": "a-fgLwe0L88U",
        "colab_type": "code",
        "colab": {}
      },
      "source": [
        "USA_us_map=USAcumdata_map.merge(USA_state_names, left_on='Stan', right_on='State')\n",
        "\n",
        "figSubPlot = make_subplots(rows=2, cols=4, shared_xaxes=False)\n",
        "\n",
        "fig1 = px.choropleth(locations=USA_us_map['Abbreviation'],locationmode=\"USA-states\", color=USA_us_map['Przyrosty'], scope=\"usa\",title='Przyrosty')\n",
        "fig2 = px.choropleth(locations=USA_us_map['Abbreviation'],locationmode=\"USA-states\", color=USA_us_map['Temperatura'], scope=\"usa\",title='Temperatura')\n",
        "fig3 = px.choropleth(locations=USA_us_map['Abbreviation'],locationmode=\"USA-states\", color=USA_us_map['Wilgotnosc'], scope=\"usa\",title='Wilgotnosc')\n",
        "\n",
        "fig1.show()\n",
        "fig2.show()\n",
        "fig3.show()"
      ],
      "execution_count": 0,
      "outputs": []
    },
    {
      "cell_type": "markdown",
      "metadata": {
        "id": "Fj13IQMF4b7_",
        "colab_type": "text"
      },
      "source": [
        "KORELACJE"
      ]
    },
    {
      "cell_type": "markdown",
      "metadata": {
        "id": "eOz96o0p_767",
        "colab_type": "text"
      },
      "source": [
        "DANE DLA PRZYROSTÓW"
      ]
    },
    {
      "cell_type": "code",
      "metadata": {
        "id": "qPYJdhLjV9I1",
        "colab_type": "code",
        "colab": {}
      },
      "source": [
        "lista_temperatura=[]\n",
        "lista_wilgotnosc=[]\n",
        "for i in range(len(USAdata2)):\n",
        "  t=USAdata2.loc[i]\n",
        "  lista_temperatura.append(pd.DataFrame(data={'x':t.Przyrosty,'y':t.Temperatura}).astype(float).corr()['x'].loc['y'])\n",
        "  lista_wilgotnosc.append(pd.DataFrame(data={'x':t.Przyrosty,'y':t.Wilgotnosc}).astype(float).corr()['x'].loc['y'])\n",
        "\n",
        "lista_temperatura.sort()\n",
        "lista_wilgotnosc.sort()\n",
        "\n",
        "fig_temperatura = px.scatter(y=lista_temperatura)\n",
        "fig_wilgotnosc = px.scatter(y=lista_wilgotnosc)\n",
        "fig_temperatura.show()\n",
        "fig_wilgotnosc.show()\n"
      ],
      "execution_count": 0,
      "outputs": []
    },
    {
      "cell_type": "code",
      "metadata": {
        "id": "-r9vtlb0WzHW",
        "colab_type": "code",
        "colab": {}
      },
      "source": [
        "lista_temperatura=[]\n",
        "lista_wilgotnosc=[]\n",
        "for i in range(len(USAdata)):\n",
        "  t=USAdata.loc[i]\n",
        "  lista_temperatura.append(pd.DataFrame(data={'x':t.Przyrosty,'y':t.Temperatura[0:6]}).astype(float).corr()['x'].loc['y'])\n",
        "  lista_wilgotnosc.append(pd.DataFrame(data={'x':t.Przyrosty,'y':t.Wilgotnosc[0:6]}).astype(float).corr()['x'].loc['y'])\n",
        "\n",
        "lista_temperatura.sort()\n",
        "lista_wilgotnosc.sort()\n",
        "\n",
        "fig = make_subplots(rows=1, cols=2, shared_xaxes=False,subplot_titles=(\"Temperatura\",\"Wilgotność\"))    \n",
        "\n",
        "fig_temperatura = px.histogram(x=lista_temperatura,nbins=30)\n",
        "fig_wilgotnosc = px.histogram(x=lista_wilgotnosc,nbins=30)\n",
        "\n",
        "fig.add_trace(fig_temperatura['data'][0], row=1, col=1)\n",
        "fig.add_trace(fig_wilgotnosc['data'][0], row=1, col=2)\n",
        "\n",
        "fig.update_layout( yaxis_title=\"Ilość korelacji\", bargroupgap=0.1)\n",
        "\n",
        "fig.show()"
      ],
      "execution_count": 0,
      "outputs": []
    }
  ]
}